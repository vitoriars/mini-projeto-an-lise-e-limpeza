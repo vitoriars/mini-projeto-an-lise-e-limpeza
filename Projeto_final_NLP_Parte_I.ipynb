{
  "nbformat": 4,
  "nbformat_minor": 0,
  "metadata": {
    "colab": {
      "name": "Projeto final NLP - Parte I.ipynb",
      "provenance": [],
      "collapsed_sections": []
    },
    "kernelspec": {
      "name": "python3",
      "display_name": "Python 3"
    }
  },
  "cells": [
    {
      "cell_type": "markdown",
      "metadata": {
        "id": "bJQqjtJAPQht",
        "colab_type": "text"
      },
      "source": [
        "# Projeto Final NLP: Parte I - Pré-processamentos\n",
        "\n",
        "Trainee: Vitoria Rodrigues Silva\n",
        "\n",
        "Um agradecimento especial a minha mentora preferida Julia Pocciotti: você é maravilhosa e inteligentíssima. Minha inspiração! Obrigada especialmente pela paciência com as várias mensagens que eu mandava e depois apagava porque tinha conseguido resolver rs \n",
        "\n",
        "Ao meu mentor preferido Azank, obrigada por sempre ouvir minhas dúvidas e ideias malucas e pela paciência com as mil vezes em que peço desculpas.\n",
        "\n",
        "Obrigada ao Gui, que também fez o projeto e sofreu junto comigo.\n",
        "\n",
        "Vcs são top <3"
      ]
    },
    {
      "cell_type": "markdown",
      "metadata": {
        "id": "bicGbd8hdpsy",
        "colab_type": "text"
      },
      "source": [
        "# IMDB Dataset\n",
        "\n",
        "Para esta parte do trabalho foi designado que trabalharíamos com o IMDB Dataset que possui 50 mil reviews de filmes para fins de processamento de linguagem natural ou análise de textos.  Então vamos começar importando e lendo nossos dados:"
      ]
    },
    {
      "cell_type": "code",
      "metadata": {
        "id": "tMrU557OgWXw",
        "colab_type": "code",
        "colab": {}
      },
      "source": [
        "#importando as bibliotecas para leitura \n",
        "import pandas as pd \n",
        "import numpy as np \n",
        "from matplotlib import pyplot as plt"
      ],
      "execution_count": null,
      "outputs": []
    },
    {
      "cell_type": "code",
      "metadata": {
        "id": "VvYzMdYHj7BV",
        "colab_type": "code",
        "colab": {
          "base_uri": "https://localhost:8080/",
          "height": 263
        },
        "outputId": "f9800cfd-c61f-419b-f84d-3067625a1edd"
      },
      "source": [
        "#lendo o arquivo \n",
        "df = pd.read_csv('IMDB Dataset.csv')\n",
        "df.head(7)"
      ],
      "execution_count": null,
      "outputs": [
        {
          "output_type": "execute_result",
          "data": {
            "text/html": [
              "<div>\n",
              "<style scoped>\n",
              "    .dataframe tbody tr th:only-of-type {\n",
              "        vertical-align: middle;\n",
              "    }\n",
              "\n",
              "    .dataframe tbody tr th {\n",
              "        vertical-align: top;\n",
              "    }\n",
              "\n",
              "    .dataframe thead th {\n",
              "        text-align: right;\n",
              "    }\n",
              "</style>\n",
              "<table border=\"1\" class=\"dataframe\">\n",
              "  <thead>\n",
              "    <tr style=\"text-align: right;\">\n",
              "      <th></th>\n",
              "      <th>review</th>\n",
              "      <th>sentiment</th>\n",
              "    </tr>\n",
              "  </thead>\n",
              "  <tbody>\n",
              "    <tr>\n",
              "      <th>0</th>\n",
              "      <td>One of the other reviewers has mentioned that ...</td>\n",
              "      <td>positive</td>\n",
              "    </tr>\n",
              "    <tr>\n",
              "      <th>1</th>\n",
              "      <td>A wonderful little production. &lt;br /&gt;&lt;br /&gt;The...</td>\n",
              "      <td>positive</td>\n",
              "    </tr>\n",
              "    <tr>\n",
              "      <th>2</th>\n",
              "      <td>I thought this was a wonderful way to spend ti...</td>\n",
              "      <td>positive</td>\n",
              "    </tr>\n",
              "    <tr>\n",
              "      <th>3</th>\n",
              "      <td>Basically there's a family where a little boy ...</td>\n",
              "      <td>negative</td>\n",
              "    </tr>\n",
              "    <tr>\n",
              "      <th>4</th>\n",
              "      <td>Petter Mattei's \"Love in the Time of Money\" is...</td>\n",
              "      <td>positive</td>\n",
              "    </tr>\n",
              "    <tr>\n",
              "      <th>5</th>\n",
              "      <td>Probably my all-time favorite movie, a story o...</td>\n",
              "      <td>positive</td>\n",
              "    </tr>\n",
              "    <tr>\n",
              "      <th>6</th>\n",
              "      <td>I sure would like to see a resurrection of a u...</td>\n",
              "      <td>positive</td>\n",
              "    </tr>\n",
              "  </tbody>\n",
              "</table>\n",
              "</div>"
            ],
            "text/plain": [
              "                                              review sentiment\n",
              "0  One of the other reviewers has mentioned that ...  positive\n",
              "1  A wonderful little production. <br /><br />The...  positive\n",
              "2  I thought this was a wonderful way to spend ti...  positive\n",
              "3  Basically there's a family where a little boy ...  negative\n",
              "4  Petter Mattei's \"Love in the Time of Money\" is...  positive\n",
              "5  Probably my all-time favorite movie, a story o...  positive\n",
              "6  I sure would like to see a resurrection of a u...  positive"
            ]
          },
          "metadata": {
            "tags": []
          },
          "execution_count": 5
        }
      ]
    },
    {
      "cell_type": "markdown",
      "metadata": {
        "id": "fdcPDfyTpYmK",
        "colab_type": "text"
      },
      "source": [
        "## Checando o DataFrame\n",
        "\n",
        "Embora pareça estar tudo okay com esse dataframe, vamos printar algumas informações só para ter certeza absoluta:"
      ]
    },
    {
      "cell_type": "code",
      "metadata": {
        "id": "OFX-ZxgcpmDQ",
        "colab_type": "code",
        "colab": {
          "base_uri": "https://localhost:8080/",
          "height": 173
        },
        "outputId": "67731c52-9ca1-4975-ae25-03bd094c9392"
      },
      "source": [
        "df.info() #informações do dataframe"
      ],
      "execution_count": null,
      "outputs": [
        {
          "output_type": "stream",
          "text": [
            "<class 'pandas.core.frame.DataFrame'>\n",
            "RangeIndex: 50000 entries, 0 to 49999\n",
            "Data columns (total 2 columns):\n",
            " #   Column     Non-Null Count  Dtype \n",
            "---  ------     --------------  ----- \n",
            " 0   review     50000 non-null  object\n",
            " 1   sentiment  50000 non-null  object\n",
            "dtypes: object(2)\n",
            "memory usage: 781.4+ KB\n"
          ],
          "name": "stdout"
        }
      ]
    },
    {
      "cell_type": "code",
      "metadata": {
        "id": "o39mscvYp2uU",
        "colab_type": "code",
        "colab": {
          "base_uri": "https://localhost:8080/",
          "height": 69
        },
        "outputId": "c8bf83fa-ff68-494e-cb7f-235e7bfd8a05"
      },
      "source": [
        "df.isnull().sum() #checando se o df possui dados nulos"
      ],
      "execution_count": null,
      "outputs": [
        {
          "output_type": "execute_result",
          "data": {
            "text/plain": [
              "review       0\n",
              "sentiment    0\n",
              "dtype: int64"
            ]
          },
          "metadata": {
            "tags": []
          },
          "execution_count": 35
        }
      ]
    },
    {
      "cell_type": "code",
      "metadata": {
        "id": "qkFQDRw8qK3i",
        "colab_type": "code",
        "colab": {
          "base_uri": "https://localhost:8080/",
          "height": 69
        },
        "outputId": "4c45f67c-73af-4530-ff6d-49f86546b811"
      },
      "source": [
        "df.nunique() #checando os valores únicos por coluna"
      ],
      "execution_count": null,
      "outputs": [
        {
          "output_type": "execute_result",
          "data": {
            "text/plain": [
              "review       49582\n",
              "sentiment        2\n",
              "dtype: int64"
            ]
          },
          "metadata": {
            "tags": []
          },
          "execution_count": 36
        }
      ]
    },
    {
      "cell_type": "markdown",
      "metadata": {
        "id": "Zc3kV3G2Q86G",
        "colab_type": "text"
      },
      "source": [
        "Só por curiosidade mesmo eu decidi plotar um gráfico para ver as distribuições da coluna 'sentiment', fique surpresa por estar dividido 50% para cada. Interessante!"
      ]
    },
    {
      "cell_type": "code",
      "metadata": {
        "id": "1ut6GjvD29zj",
        "colab_type": "code",
        "colab": {
          "base_uri": "https://localhost:8080/",
          "height": 312
        },
        "outputId": "e980dc9f-e14f-4e0b-8c34-341dfc6d746b"
      },
      "source": [
        "sns.set_style('whitegrid')\n",
        "plt.xticks(rotation=60)\n",
        "sns.countplot(df['sentiment'])\n",
        "\n",
        "plt.show()"
      ],
      "execution_count": null,
      "outputs": [
        {
          "output_type": "display_data",
          "data": {
            "image/png": "[encoded data removed]",
            "text/plain": [
              "<Figure size 432x288 with 1 Axes>"
            ]
          },
          "metadata": {
            "tags": []
          }
        }
      ]
    },
    {
      "cell_type": "markdown",
      "metadata": {
        "id": "1PpGdM1QFKaa",
        "colab_type": "text"
      },
      "source": [
        "Já que tudo parece certo em ambas as colunas numa primeira vista vamos partir para o pré-processamento."
      ]
    },
    {
      "cell_type": "markdown",
      "metadata": {
        "id": "yotuSD2aFWGN",
        "colab_type": "text"
      },
      "source": [
        "# 1) Pré-Processamento\n",
        "\n",
        "O pré-processamento de um texto ajuda na obtenção de melhores resultados ao executar aprendizados de máquina ou outros métodos estatísticos. São muitos os métodos de pré-processamento, mas os que foram solicitados para esse projeto foram:\n",
        "* Remover tags com HTML: pra isso vamos usar a biblioteca BeautifulSoup, mais especificamente a função `get_text()` que nos retornará somente o texto da coluna ignorando as tags\n",
        "* Usar regex para selecionar apenas letras, ignorando pontuação \n",
        "* Colocar todas palavras com letras minúsculas\n",
        "* Remover stopwords, como 'a', 'o', etc\n",
        "* Stematizar e Lematizar o texto, mantendo aspenas as raízes das palavras\n",
        "\n",
        "\n",
        "Então vamos lá! Vou fazer uma função que cumpra todas essas etapas e aplicá-la a coluna \"review\":"
      ]
    },
    {
      "cell_type": "code",
      "metadata": {
        "id": "WXcT_sj8Hl1A",
        "colab_type": "code",
        "colab": {}
      },
      "source": [
        "#importando as bibliotecas necessárias \n",
        "from bs4 import BeautifulSoup  \n",
        "import re\n",
        "from nltk.tokenize import word_tokenize \n",
        "import nltk\n",
        "import spacy "
      ],
      "execution_count": null,
      "outputs": []
    },
    {
      "cell_type": "code",
      "metadata": {
        "id": "KwGmBttcv_XB",
        "colab_type": "code",
        "colab": {
          "base_uri": "https://localhost:8080/",
          "height": 69
        },
        "outputId": "19062354-5e6e-4031-c885-21b3e20eb170"
      },
      "source": [
        "#o colab exigiu que eu baixasse stopwords então:\n",
        "nltk.download('stopwords')"
      ],
      "execution_count": null,
      "outputs": [
        {
          "output_type": "stream",
          "text": [
            "[nltk_data] Downloading package stopwords to /root/nltk_data...\n",
            "[nltk_data]   Package stopwords is already up-to-date!\n"
          ],
          "name": "stdout"
        },
        {
          "output_type": "execute_result",
          "data": {
            "text/plain": [
              "True"
            ]
          },
          "metadata": {
            "tags": []
          },
          "execution_count": 3
        }
      ]
    },
    {
      "cell_type": "code",
      "metadata": {
        "id": "aR3OvsPfxRYq",
        "colab_type": "code",
        "colab": {}
      },
      "source": [
        "spc_en = spacy.load('en')\n",
        "\n",
        "#função que realiza todas as etapas acima\n",
        "def pre_processamento(texto):\n",
        "\n",
        "  #remove as tags\n",
        "  soup = BeautifulSoup(texto)\n",
        "  texto_sem_tags = soup.get_text()\n",
        "\n",
        "  #transforma as letras em minúsculas\n",
        "  texto_min = texto_sem_tags.lower()\n",
        "\n",
        "  #seleciona apenas letras\n",
        "  apenas_letras = re.findall(r'[a-z]+', texto_min)\n",
        "  \n",
        "  #removendo as stopwords\n",
        "  stopwords = nltk.corpus.stopwords.words('english')\n",
        "  sem_stopwords = set(stopwords)\n",
        "  palavras_importantes = []\n",
        "  for palavras in apenas_letras:\n",
        "    if palavras not in stopwords:\n",
        "      palavras_importantes.append(palavras)\n",
        "\n",
        "  palavras_importantes_string = \" \".join(palavras_importantes)\n",
        "  \n",
        "\n",
        "  #Instanciando o objeto spacy\n",
        "  spc_letras =  spc_en(palavras_importantes_string)\n",
        "\n",
        "  #Lemmização \n",
        "  tokens = [token.lemma_ if token.pos_ == 'VERB' else str(token) for token in spc_letras]\n",
        "  \n",
        "  #juntando os tokens \n",
        "  tokens_join = \" \".join(tokens)\n",
        "  \n",
        "  return tokens_join\n"
      ],
      "execution_count": null,
      "outputs": []
    },
    {
      "cell_type": "code",
      "metadata": {
        "id": "HODnQPVSJuB5",
        "colab_type": "code",
        "colab": {}
      },
      "source": [
        "#aplicando a coluna review\n",
        "df['review'] = df['review'].apply(pre_processamento)"
      ],
      "execution_count": null,
      "outputs": []
    },
    {
      "cell_type": "code",
      "metadata": {
        "id": "4nZ4uDZj-Of-",
        "colab_type": "code",
        "colab": {
          "base_uri": "https://localhost:8080/",
          "height": 202
        },
        "outputId": "de94a5d0-8deb-4836-b69a-d0f0fc6434d8"
      },
      "source": [
        "#vamos ver como ficou:\n",
        "df.head()   "
      ],
      "execution_count": null,
      "outputs": [
        {
          "output_type": "execute_result",
          "data": {
            "text/html": [
              "<div>\n",
              "<style scoped>\n",
              "    .dataframe tbody tr th:only-of-type {\n",
              "        vertical-align: middle;\n",
              "    }\n",
              "\n",
              "    .dataframe tbody tr th {\n",
              "        vertical-align: top;\n",
              "    }\n",
              "\n",
              "    .dataframe thead th {\n",
              "        text-align: right;\n",
              "    }\n",
              "</style>\n",
              "<table border=\"1\" class=\"dataframe\">\n",
              "  <thead>\n",
              "    <tr style=\"text-align: right;\">\n",
              "      <th></th>\n",
              "      <th>review</th>\n",
              "      <th>sentiment</th>\n",
              "    </tr>\n",
              "  </thead>\n",
              "  <tbody>\n",
              "    <tr>\n",
              "      <th>0</th>\n",
              "      <td>one reviewers mention watch oz episode hook ri...</td>\n",
              "      <td>positive</td>\n",
              "    </tr>\n",
              "    <tr>\n",
              "      <th>1</th>\n",
              "      <td>wonderful little production filming technique ...</td>\n",
              "      <td>positive</td>\n",
              "    </tr>\n",
              "    <tr>\n",
              "      <th>2</th>\n",
              "      <td>think wonderful way spend time hot summer week...</td>\n",
              "      <td>positive</td>\n",
              "    </tr>\n",
              "    <tr>\n",
              "      <th>3</th>\n",
              "      <td>basically family little boy jake think zombie ...</td>\n",
              "      <td>negative</td>\n",
              "    </tr>\n",
              "    <tr>\n",
              "      <th>4</th>\n",
              "      <td>petter mattei love time money visually stunnin...</td>\n",
              "      <td>positive</td>\n",
              "    </tr>\n",
              "  </tbody>\n",
              "</table>\n",
              "</div>"
            ],
            "text/plain": [
              "                                              review sentiment\n",
              "0  one reviewers mention watch oz episode hook ri...  positive\n",
              "1  wonderful little production filming technique ...  positive\n",
              "2  think wonderful way spend time hot summer week...  positive\n",
              "3  basically family little boy jake think zombie ...  negative\n",
              "4  petter mattei love time money visually stunnin...  positive"
            ]
          },
          "metadata": {
            "tags": []
          },
          "execution_count": 20
        }
      ]
    },
    {
      "cell_type": "markdown",
      "metadata": {
        "id": "WV0C7qunzI1Y",
        "colab_type": "text"
      },
      "source": [
        "Já que o pré-processamento demora para rodar decidi guardar o texto processado em um novo csv:"
      ]
    },
    {
      "cell_type": "code",
      "metadata": {
        "id": "s0k80RMY37Fe",
        "colab_type": "code",
        "colab": {}
      },
      "source": [
        "df.to_csv('df_clean.csv')"
      ],
      "execution_count": null,
      "outputs": []
    },
    {
      "cell_type": "code",
      "metadata": {
        "id": "qKIrE1LJX0o7",
        "colab_type": "code",
        "colab": {
          "base_uri": "https://localhost:8080/",
          "height": 202
        },
        "outputId": "4b413ab4-db8e-4480-db8a-309f61de399e"
      },
      "source": [
        "#lendo o novo csv\n",
        "df1 = pd.read_csv('df_clean.csv', index_col=0)\n",
        "df1.head()"
      ],
      "execution_count": null,
      "outputs": [
        {
          "output_type": "execute_result",
          "data": {
            "text/html": [
              "<div>\n",
              "<style scoped>\n",
              "    .dataframe tbody tr th:only-of-type {\n",
              "        vertical-align: middle;\n",
              "    }\n",
              "\n",
              "    .dataframe tbody tr th {\n",
              "        vertical-align: top;\n",
              "    }\n",
              "\n",
              "    .dataframe thead th {\n",
              "        text-align: right;\n",
              "    }\n",
              "</style>\n",
              "<table border=\"1\" class=\"dataframe\">\n",
              "  <thead>\n",
              "    <tr style=\"text-align: right;\">\n",
              "      <th></th>\n",
              "      <th>review</th>\n",
              "      <th>sentiment</th>\n",
              "    </tr>\n",
              "  </thead>\n",
              "  <tbody>\n",
              "    <tr>\n",
              "      <th>0</th>\n",
              "      <td>one reviewers mention watch oz episode hook ri...</td>\n",
              "      <td>positive</td>\n",
              "    </tr>\n",
              "    <tr>\n",
              "      <th>1</th>\n",
              "      <td>wonderful little production filming technique ...</td>\n",
              "      <td>positive</td>\n",
              "    </tr>\n",
              "    <tr>\n",
              "      <th>2</th>\n",
              "      <td>think wonderful way spend time hot summer week...</td>\n",
              "      <td>positive</td>\n",
              "    </tr>\n",
              "    <tr>\n",
              "      <th>3</th>\n",
              "      <td>basically family little boy jake think zombie ...</td>\n",
              "      <td>negative</td>\n",
              "    </tr>\n",
              "    <tr>\n",
              "      <th>4</th>\n",
              "      <td>petter mattei love time money visually stunnin...</td>\n",
              "      <td>positive</td>\n",
              "    </tr>\n",
              "  </tbody>\n",
              "</table>\n",
              "</div>"
            ],
            "text/plain": [
              "                                              review sentiment\n",
              "0  one reviewers mention watch oz episode hook ri...  positive\n",
              "1  wonderful little production filming technique ...  positive\n",
              "2  think wonderful way spend time hot summer week...  positive\n",
              "3  basically family little boy jake think zombie ...  negative\n",
              "4  petter mattei love time money visually stunnin...  positive"
            ]
          },
          "metadata": {
            "tags": []
          },
          "execution_count": 4
        }
      ]
    },
    {
      "cell_type": "markdown",
      "metadata": {
        "id": "8H1MVFGDuyNa",
        "colab_type": "text"
      },
      "source": [
        "# 2) Feature Extraction\n",
        "\n",
        "Para aplicar nosso texto em um modelo precisamos antes extrair e preparar as features, por isso vamos utilizar o `CountVectorizer` da biblioteca `sklearn` para contar as ocorrências das palavras e transformá-las em vetores para nosso modelo:\n",
        "\n",
        "\n",
        "\n",
        "\n"
      ]
    },
    {
      "cell_type": "code",
      "metadata": {
        "id": "OGlb4KccRctM",
        "colab_type": "code",
        "colab": {}
      },
      "source": [
        "df1['sentiment'] = pd.get_dummies(df1['sentiment'])['positive']"
      ],
      "execution_count": null,
      "outputs": []
    },
    {
      "cell_type": "code",
      "metadata": {
        "id": "bVYMQEeFyXED",
        "colab_type": "code",
        "colab": {
          "base_uri": "https://localhost:8080/",
          "height": 121
        },
        "outputId": "39d969ff-ff8c-46ec-e4bc-7c24375adf60"
      },
      "source": [
        "#importando o CountVectorizer\n",
        "from sklearn.feature_extraction.text import CountVectorizer\n",
        "\n",
        "#Instanciado o CountVectorizer e adicionando o parâmetro binário \n",
        "vectorizer = CountVectorizer(binary=True, max_features=5000)\n",
        "\n",
        "#Preparando o texto que será usado, ou seja, a coluna 'review'\n",
        "text = df1['review']\n",
        "\n",
        "#Vamos ajustar o texto ao vector\n",
        "vectorizer.fit(text)"
      ],
      "execution_count": null,
      "outputs": [
        {
          "output_type": "execute_result",
          "data": {
            "text/plain": [
              "CountVectorizer(analyzer='word', binary=True, decode_error='strict',\n",
              "                dtype=<class 'numpy.int64'>, encoding='utf-8', input='content',\n",
              "                lowercase=True, max_df=1.0, max_features=5000, min_df=1,\n",
              "                ngram_range=(1, 1), preprocessor=None, stop_words=None,\n",
              "                strip_accents=None, token_pattern='(?u)\\\\b\\\\w\\\\w+\\\\b',\n",
              "                tokenizer=None, vocabulary=None)"
            ]
          },
          "metadata": {
            "tags": []
          },
          "execution_count": 6
        }
      ]
    },
    {
      "cell_type": "code",
      "metadata": {
        "id": "TibbV5lXuzfF",
        "colab_type": "code",
        "colab": {}
      },
      "source": [
        "#vamos então passar o texto para ser vectorizado\n",
        "x = vectorizer.transform(text)"
      ],
      "execution_count": null,
      "outputs": []
    },
    {
      "cell_type": "code",
      "metadata": {
        "id": "mO_gGwUhQYOa",
        "colab_type": "code",
        "colab": {
          "base_uri": "https://localhost:8080/",
          "height": 139
        },
        "outputId": "0ccf2a74-f007-48c9-b443-9095f556d82f"
      },
      "source": [
        "x.toarray()"
      ],
      "execution_count": null,
      "outputs": [
        {
          "output_type": "execute_result",
          "data": {
            "text/plain": [
              "array([[0, 0, 0, ..., 0, 0, 0],\n",
              "       [0, 0, 0, ..., 0, 0, 0],\n",
              "       [0, 0, 0, ..., 0, 0, 0],\n",
              "       ...,\n",
              "       [0, 0, 0, ..., 0, 0, 0],\n",
              "       [0, 0, 0, ..., 0, 0, 0],\n",
              "       [0, 0, 0, ..., 0, 0, 0]])"
            ]
          },
          "metadata": {
            "tags": []
          },
          "execution_count": 8
        }
      ]
    },
    {
      "cell_type": "code",
      "metadata": {
        "id": "1gIdUY9Ju0Zv",
        "colab_type": "code",
        "colab": {
          "base_uri": "https://localhost:8080/",
          "height": 35
        },
        "outputId": "ba2dab5b-c334-4936-94d8-11f84426bd4d"
      },
      "source": [
        "#e printar para ver se deu tudo certo\n",
        "print(x.shape)"
      ],
      "execution_count": null,
      "outputs": [
        {
          "output_type": "stream",
          "text": [
            "(34025, 5000)\n"
          ],
          "name": "stdout"
        }
      ]
    },
    {
      "cell_type": "code",
      "metadata": {
        "id": "BdM1qms2u5ly",
        "colab_type": "code",
        "colab": {
          "base_uri": "https://localhost:8080/",
          "height": 35
        },
        "outputId": "6cd965ed-8c97-4c81-97ce-6f614867c2a3"
      },
      "source": [
        "print(type(x))"
      ],
      "execution_count": null,
      "outputs": [
        {
          "output_type": "stream",
          "text": [
            "<class 'scipy.sparse.csr.csr_matrix'>\n"
          ],
          "name": "stdout"
        }
      ]
    },
    {
      "cell_type": "markdown",
      "metadata": {
        "id": "nBz5kMMyF9Aa",
        "colab_type": "text"
      },
      "source": [
        "# 3) Aplicando um modelo\n",
        "\n",
        "Uhul! Tudo certo até aqui. Agora vamos aplicar um modelo nos nossos dados. Bora lá!"
      ]
    },
    {
      "cell_type": "markdown",
      "metadata": {
        "id": "u4rKeqqpGa5R",
        "colab_type": "text"
      },
      "source": [
        "## Random Forest \n",
        "Vou usar primeiro esse classificador. Vamos importar as bibliotecas:"
      ]
    },
    {
      "cell_type": "code",
      "metadata": {
        "id": "o27KwW1rSBWD",
        "colab_type": "code",
        "colab": {}
      },
      "source": [
        "from sklearn.model_selection import train_test_split #para separar os dados em base de treino e teste\n",
        "from sklearn.ensemble import RandomForestClassifier #o modelo que vamos usar\n",
        "from sklearn.metrics import accuracy_score, confusion_matrix #métricas para medir a performance do modelo\n",
        "from sklearn.metrics import classification_report #para mais umas métricas"
      ],
      "execution_count": null,
      "outputs": []
    },
    {
      "cell_type": "markdown",
      "metadata": {
        "id": "bn0Nt218USKA",
        "colab_type": "text"
      },
      "source": [
        "Agora vamos definir a base de treino e teste, instanciar nosso modelo assim como ajustá-lo aos dados:"
      ]
    },
    {
      "cell_type": "code",
      "metadata": {
        "id": "wUTtzFVyUQzj",
        "colab_type": "code",
        "colab": {}
      },
      "source": [
        "#divisão em treino e teste, com 30% para base de teste e 70% para base de treino\n",
        "x_train, x_test, y_train, y_test = train_test_split(x, df1['sentiment'], test_size = 0.30, random_state=42)"
      ],
      "execution_count": null,
      "outputs": []
    },
    {
      "cell_type": "code",
      "metadata": {
        "id": "YpRZiF6NY-ql",
        "colab_type": "code",
        "colab": {
          "base_uri": "https://localhost:8080/",
          "height": 156
        },
        "outputId": "628933bc-7a57-444a-c873-74c411b5d159"
      },
      "source": [
        "random_forest = RandomForestClassifier(max_depth=3, random_state=0) #instanciando o modelo\n",
        "random_forest.fit(x_train, y_train) #ajustando o modelo ao classificador"
      ],
      "execution_count": null,
      "outputs": [
        {
          "output_type": "execute_result",
          "data": {
            "text/plain": [
              "RandomForestClassifier(bootstrap=True, ccp_alpha=0.0, class_weight=None,\n",
              "                       criterion='gini', max_depth=3, max_features='auto',\n",
              "                       max_leaf_nodes=None, max_samples=None,\n",
              "                       min_impurity_decrease=0.0, min_impurity_split=None,\n",
              "                       min_samples_leaf=1, min_samples_split=2,\n",
              "                       min_weight_fraction_leaf=0.0, n_estimators=100,\n",
              "                       n_jobs=None, oob_score=False, random_state=0, verbose=0,\n",
              "                       warm_start=False)"
            ]
          },
          "metadata": {
            "tags": []
          },
          "execution_count": 11
        }
      ]
    },
    {
      "cell_type": "markdown",
      "metadata": {
        "id": "HTl8mJCQm0OG",
        "colab_type": "text"
      },
      "source": [
        "Agora ~ finalmente ~ a hora mais esperada. Vamos prever os dados:"
      ]
    },
    {
      "cell_type": "code",
      "metadata": {
        "id": "FIgzyZOwhG37",
        "colab_type": "code",
        "colab": {}
      },
      "source": [
        "y_pred = random_forest.predict(x_test) "
      ],
      "execution_count": null,
      "outputs": []
    },
    {
      "cell_type": "markdown",
      "metadata": {
        "id": "r1xY9dqTm9bB",
        "colab_type": "text"
      },
      "source": [
        "Beleza! Agora precisamos verificar a acurácia do nosso modelo, então bora checar algumas métricas:"
      ]
    },
    {
      "cell_type": "code",
      "metadata": {
        "id": "HjI4IQcOhV7Y",
        "colab_type": "code",
        "colab": {
          "base_uri": "https://localhost:8080/",
          "height": 35
        },
        "outputId": "80462bda-6492-4b33-9c2f-4e30706ff135"
      },
      "source": [
        "random_forest.score(x_test, y_test) #score "
      ],
      "execution_count": null,
      "outputs": [
        {
          "output_type": "execute_result",
          "data": {
            "text/plain": [
              "0.8082876175548589"
            ]
          },
          "metadata": {
            "tags": []
          },
          "execution_count": 13
        }
      ]
    },
    {
      "cell_type": "code",
      "metadata": {
        "id": "_oXj9bhphulZ",
        "colab_type": "code",
        "colab": {
          "base_uri": "https://localhost:8080/",
          "height": 52
        },
        "outputId": "6fd14def-8e03-41cd-edca-bb95725036cf"
      },
      "source": [
        "print(confusion_matrix(y_test, y_pred)) #matriz de cofusão"
      ],
      "execution_count": null,
      "outputs": [
        {
          "output_type": "stream",
          "text": [
            "[[5760 1651]\n",
            " [1152 6437]]\n"
          ],
          "name": "stdout"
        }
      ]
    },
    {
      "cell_type": "code",
      "metadata": {
        "id": "fgubVIY_i6Aw",
        "colab_type": "code",
        "colab": {
          "base_uri": "https://localhost:8080/",
          "height": 173
        },
        "outputId": "c88f93cb-164d-4ca8-8442-c82a70e7683a"
      },
      "source": [
        "print(classification_report(y_test, y_pred)) #precision, recall, f1"
      ],
      "execution_count": null,
      "outputs": [
        {
          "output_type": "stream",
          "text": [
            "              precision    recall  f1-score   support\n",
            "\n",
            "           0       0.83      0.78      0.80      7411\n",
            "           1       0.80      0.85      0.82      7589\n",
            "\n",
            "    accuracy                           0.81     15000\n",
            "   macro avg       0.81      0.81      0.81     15000\n",
            "weighted avg       0.81      0.81      0.81     15000\n",
            "\n"
          ],
          "name": "stdout"
        }
      ]
    },
    {
      "cell_type": "markdown",
      "metadata": {
        "id": "oXzjPC_MnMkm",
        "colab_type": "text"
      },
      "source": [
        "Muito bem. Usamos aqui um modelo simples de Classificação para prever nossa target 'sentiment'. Nossa acurácia não foi tão boa mas também não foi péssima, ficou por volta de 80%, com uma matriz de confusão igual a essa abaixo: \n",
        "\n",
        "> ![texto alternativo](https://scontent.fcgh23-1.fna.fbcdn.net/v/t1.0-9/110227326_2951887414940760_5054574508051444339_n.jpg?_nc_cat=111&_nc_sid=730e14&_nc_eui2=AeH52vexlz3SEHlB2w0O6uk80MnAZNbHjybQycBk1sePJoBXDaHoBIV3axuyyWZE6ebqoTGNzhYoGt-oxPlxr9pA&_nc_ohc=c2SruV2OCx0AX9Im_yD&_nc_ht=scontent.fcgh23-1.fna&oh=1c1310e5ee64b6e7cd8ecab6dcc69c91&oe=5F348D52)\n",
        "\n",
        "\n",
        "\n",
        "\n",
        "\n",
        "Nossa precisão ficou em torno de 80% também, indicando que não tivemos muitos falsos positivos, o que é ótimo! Já nossa recall não ficou muito alta, ela previu melhor sentimentos positivos - aqui representandos pelo número 1 -, com uma recall de 85%, mas não previu tão bem os sentimentos negativos, com uma recall de apenas 78%. \n",
        "\n"
      ]
    },
    {
      "cell_type": "markdown",
      "metadata": {
        "id": "4M_dGIRJr7uq",
        "colab_type": "text"
      },
      "source": [
        "## Regressão Logística \n",
        "\n",
        "Vamos testar outro modelo de classificação e ver se nossa acurácia melhora! \n",
        "\n",
        "Vamos importar o modelo e instanciá-lo:"
      ]
    },
    {
      "cell_type": "code",
      "metadata": {
        "id": "c9giLFRJrxeS",
        "colab_type": "code",
        "colab": {}
      },
      "source": [
        "from sklearn.linear_model import LogisticRegression\n",
        "logreg = LogisticRegression()"
      ],
      "execution_count": null,
      "outputs": []
    },
    {
      "cell_type": "markdown",
      "metadata": {
        "id": "wFwkOdEwsjVR",
        "colab_type": "text"
      },
      "source": [
        "Não precisei separar em base de treino e teste porque jão tinha feito isso ali em cima. Portanto, vamos direto para o ajuste:"
      ]
    },
    {
      "cell_type": "code",
      "metadata": {
        "id": "oXkGbXp6rzLA",
        "colab_type": "code",
        "colab": {
          "base_uri": "https://localhost:8080/",
          "height": 243
        },
        "outputId": "7843ba80-25c6-4bd8-e15b-04d046897023"
      },
      "source": [
        "logreg.fit(x_train, y_train)"
      ],
      "execution_count": null,
      "outputs": [
        {
          "output_type": "stream",
          "text": [
            "/usr/local/lib/python3.6/dist-packages/sklearn/linear_model/_logistic.py:940: ConvergenceWarning: lbfgs failed to converge (status=1):\n",
            "STOP: TOTAL NO. of ITERATIONS REACHED LIMIT.\n",
            "\n",
            "Increase the number of iterations (max_iter) or scale the data as shown in:\n",
            "    https://scikit-learn.org/stable/modules/preprocessing.html\n",
            "Please also refer to the documentation for alternative solver options:\n",
            "    https://scikit-learn.org/stable/modules/linear_model.html#logistic-regression\n",
            "  extra_warning_msg=_LOGISTIC_SOLVER_CONVERGENCE_MSG)\n"
          ],
          "name": "stderr"
        },
        {
          "output_type": "execute_result",
          "data": {
            "text/plain": [
              "LogisticRegression(C=1.0, class_weight=None, dual=False, fit_intercept=True,\n",
              "                   intercept_scaling=1, l1_ratio=None, max_iter=100,\n",
              "                   multi_class='auto', n_jobs=None, penalty='l2',\n",
              "                   random_state=None, solver='lbfgs', tol=0.0001, verbose=0,\n",
              "                   warm_start=False)"
            ]
          },
          "metadata": {
            "tags": []
          },
          "execution_count": 16
        }
      ]
    },
    {
      "cell_type": "markdown",
      "metadata": {
        "id": "uIjgERzcswe8",
        "colab_type": "text"
      },
      "source": [
        "E o momento da previsão!"
      ]
    },
    {
      "cell_type": "code",
      "metadata": {
        "id": "Ts02Hj-psPnh",
        "colab_type": "code",
        "colab": {}
      },
      "source": [
        "y2_pred = logreg.predict(x_test)"
      ],
      "execution_count": null,
      "outputs": []
    },
    {
      "cell_type": "markdown",
      "metadata": {
        "id": "4Y5_tQQLszBg",
        "colab_type": "text"
      },
      "source": [
        "Agora vamos calcular nossa acurácia e outras métricas:"
      ]
    },
    {
      "cell_type": "code",
      "metadata": {
        "id": "x5o4NtSMxIlu",
        "colab_type": "code",
        "colab": {
          "base_uri": "https://localhost:8080/",
          "height": 35
        },
        "outputId": "fcd598fc-92ac-4e4b-e317-caeb33d95a57"
      },
      "source": [
        "logreg.score(x_test, y_test) #acurácia"
      ],
      "execution_count": null,
      "outputs": [
        {
          "output_type": "execute_result",
          "data": {
            "text/plain": [
              "0.8599137931034483"
            ]
          },
          "metadata": {
            "tags": []
          },
          "execution_count": 21
        }
      ]
    },
    {
      "cell_type": "code",
      "metadata": {
        "id": "UR_sZOHsE8zQ",
        "colab_type": "code",
        "colab": {
          "base_uri": "https://localhost:8080/",
          "height": 52
        },
        "outputId": "a476ca55-5cfb-400b-d5bc-ab004898a6d9"
      },
      "source": [
        "print(confusion_matrix(y_test, y2_pred)) #matriz de cofusão"
      ],
      "execution_count": null,
      "outputs": [
        {
          "output_type": "stream",
          "text": [
            "[[4355  697]\n",
            " [ 733 4423]]\n"
          ],
          "name": "stdout"
        }
      ]
    },
    {
      "cell_type": "code",
      "metadata": {
        "id": "TsBYVpykHslV",
        "colab_type": "code",
        "colab": {
          "base_uri": "https://localhost:8080/",
          "height": 173
        },
        "outputId": "b91737eb-f7ac-4220-e777-655cf8104c51"
      },
      "source": [
        "print(classification_report(y_test, y2_pred)) #outras métricas"
      ],
      "execution_count": null,
      "outputs": [
        {
          "output_type": "stream",
          "text": [
            "              precision    recall  f1-score   support\n",
            "\n",
            "           0       0.86      0.86      0.86      5052\n",
            "           1       0.86      0.86      0.86      5156\n",
            "\n",
            "    accuracy                           0.86     10208\n",
            "   macro avg       0.86      0.86      0.86     10208\n",
            "weighted avg       0.86      0.86      0.86     10208\n",
            "\n"
          ],
          "name": "stdout"
        }
      ]
    },
    {
      "cell_type": "markdown",
      "metadata": {
        "id": "RETg_W1ls94Q",
        "colab_type": "text"
      },
      "source": [
        "Nesse último modelo conseguimos um desempenho melhor! Ainda não está perfeito mas já está bom. Nossa matriz de confusão ficou boa, e nossas outras métricas também! Diferentemente do modelo anterior, nossa recall ficou bem melhor, já que conseguiu prever os sentimentos negativos e positivos igualmente.  A f1, que é a média harmônica da recall, também ficou boa. \n",
        "\n",
        "Por fim gostaria de agradecer novamente a Ju por tirar minhas dúvidas durante esse projeto, foi bem desafiante mas gostei muito de cada partezinha dele."
      ]
    }
  ]
}